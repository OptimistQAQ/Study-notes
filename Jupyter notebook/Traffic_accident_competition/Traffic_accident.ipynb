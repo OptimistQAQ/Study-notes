{
 "cells": [
  {
   "cell_type": "code",
   "execution_count": 1,
   "metadata": {},
   "outputs": [
    {
     "name": "stderr",
     "output_type": "stream",
     "text": [
      "D:\\Program Files (x86)\\Anaconda\\lib\\importlib\\_bootstrap.py:219: RuntimeWarning: numpy.ufunc size changed, may indicate binary incompatibility. Expected 192 from C header, got 216 from PyObject\n",
      "  return f(*args, **kwds)\n"
     ]
    }
   ],
   "source": [
    "import pandas as pd\n",
    "import numpy as np\n",
    "import os\n",
    "import matplotlib.pyplot as plt\n",
    "%matplotlib inline"
   ]
  },
  {
   "cell_type": "code",
   "execution_count": 6,
   "metadata": {},
   "outputs": [],
   "source": [
    "trainPath = os.path.join(\"train.csv\")\n",
    "testPath = os.path.join(\"test.csv\")\n",
    "submitPath = os.path.join(\"sample_submit.csv\")\n",
    "trainData = pd.read_csv(trainPath)\n",
    "testData = pd.read_csv(testPath)\n",
    "submitData = pd.read_csv(submitPath)"
   ]
  },
  {
   "cell_type": "code",
   "execution_count": 8,
   "metadata": {},
   "outputs": [],
   "source": [
    "# 去掉编号一列\n",
    "trainData.drop(\"CaseId\", axis=1, inplace=True)\n",
    "testData.drop(\"CaseId\", axis=1, inplace=True)"
   ]
  },
  {
   "cell_type": "code",
   "execution_count": 9,
   "metadata": {},
   "outputs": [
    {
     "data": {
      "text/html": [
       "<div>\n",
       "<style scoped>\n",
       "    .dataframe tbody tr th:only-of-type {\n",
       "        vertical-align: middle;\n",
       "    }\n",
       "\n",
       "    .dataframe tbody tr th {\n",
       "        vertical-align: top;\n",
       "    }\n",
       "\n",
       "    .dataframe thead th {\n",
       "        text-align: right;\n",
       "    }\n",
       "</style>\n",
       "<table border=\"1\" class=\"dataframe\">\n",
       "  <thead>\n",
       "    <tr style=\"text-align: right;\">\n",
       "      <th></th>\n",
       "      <th>Q1</th>\n",
       "      <th>Q2</th>\n",
       "      <th>Q3</th>\n",
       "      <th>Q4</th>\n",
       "      <th>Q5</th>\n",
       "      <th>Q6</th>\n",
       "      <th>Q7</th>\n",
       "      <th>Q8</th>\n",
       "      <th>Q9</th>\n",
       "      <th>Q10</th>\n",
       "      <th>...</th>\n",
       "      <th>Q28</th>\n",
       "      <th>Q29</th>\n",
       "      <th>Q30</th>\n",
       "      <th>Q31</th>\n",
       "      <th>Q32</th>\n",
       "      <th>Q33</th>\n",
       "      <th>Q34</th>\n",
       "      <th>Q35</th>\n",
       "      <th>Q36</th>\n",
       "      <th>Evaluation</th>\n",
       "    </tr>\n",
       "  </thead>\n",
       "  <tbody>\n",
       "    <tr>\n",
       "      <th>0</th>\n",
       "      <td>0</td>\n",
       "      <td>0</td>\n",
       "      <td>0</td>\n",
       "      <td>0</td>\n",
       "      <td>0</td>\n",
       "      <td>0</td>\n",
       "      <td>0</td>\n",
       "      <td>0</td>\n",
       "      <td>0</td>\n",
       "      <td>0</td>\n",
       "      <td>...</td>\n",
       "      <td>0</td>\n",
       "      <td>0</td>\n",
       "      <td>0</td>\n",
       "      <td>0</td>\n",
       "      <td>0</td>\n",
       "      <td>0</td>\n",
       "      <td>0</td>\n",
       "      <td>0</td>\n",
       "      <td>0</td>\n",
       "      <td>0</td>\n",
       "    </tr>\n",
       "    <tr>\n",
       "      <th>1</th>\n",
       "      <td>0</td>\n",
       "      <td>0</td>\n",
       "      <td>0</td>\n",
       "      <td>0</td>\n",
       "      <td>0</td>\n",
       "      <td>0</td>\n",
       "      <td>0</td>\n",
       "      <td>0</td>\n",
       "      <td>0</td>\n",
       "      <td>0</td>\n",
       "      <td>...</td>\n",
       "      <td>0</td>\n",
       "      <td>1</td>\n",
       "      <td>1</td>\n",
       "      <td>1</td>\n",
       "      <td>1</td>\n",
       "      <td>0</td>\n",
       "      <td>0</td>\n",
       "      <td>0</td>\n",
       "      <td>0</td>\n",
       "      <td>0</td>\n",
       "    </tr>\n",
       "    <tr>\n",
       "      <th>2</th>\n",
       "      <td>0</td>\n",
       "      <td>0</td>\n",
       "      <td>0</td>\n",
       "      <td>0</td>\n",
       "      <td>0</td>\n",
       "      <td>0</td>\n",
       "      <td>0</td>\n",
       "      <td>1</td>\n",
       "      <td>0</td>\n",
       "      <td>0</td>\n",
       "      <td>...</td>\n",
       "      <td>1</td>\n",
       "      <td>2</td>\n",
       "      <td>2</td>\n",
       "      <td>2</td>\n",
       "      <td>1</td>\n",
       "      <td>0</td>\n",
       "      <td>0</td>\n",
       "      <td>0</td>\n",
       "      <td>0</td>\n",
       "      <td>0</td>\n",
       "    </tr>\n",
       "    <tr>\n",
       "      <th>3</th>\n",
       "      <td>0</td>\n",
       "      <td>0</td>\n",
       "      <td>0</td>\n",
       "      <td>0</td>\n",
       "      <td>0</td>\n",
       "      <td>0</td>\n",
       "      <td>0</td>\n",
       "      <td>0</td>\n",
       "      <td>0</td>\n",
       "      <td>0</td>\n",
       "      <td>...</td>\n",
       "      <td>1</td>\n",
       "      <td>3</td>\n",
       "      <td>2</td>\n",
       "      <td>3</td>\n",
       "      <td>1</td>\n",
       "      <td>0</td>\n",
       "      <td>0</td>\n",
       "      <td>1</td>\n",
       "      <td>1</td>\n",
       "      <td>0</td>\n",
       "    </tr>\n",
       "    <tr>\n",
       "      <th>4</th>\n",
       "      <td>0</td>\n",
       "      <td>0</td>\n",
       "      <td>0</td>\n",
       "      <td>0</td>\n",
       "      <td>0</td>\n",
       "      <td>0</td>\n",
       "      <td>0</td>\n",
       "      <td>0</td>\n",
       "      <td>0</td>\n",
       "      <td>0</td>\n",
       "      <td>...</td>\n",
       "      <td>1</td>\n",
       "      <td>4</td>\n",
       "      <td>2</td>\n",
       "      <td>4</td>\n",
       "      <td>1</td>\n",
       "      <td>0</td>\n",
       "      <td>0</td>\n",
       "      <td>1</td>\n",
       "      <td>1</td>\n",
       "      <td>0</td>\n",
       "    </tr>\n",
       "  </tbody>\n",
       "</table>\n",
       "<p>5 rows × 37 columns</p>\n",
       "</div>"
      ],
      "text/plain": [
       "   Q1  Q2  Q3  Q4  Q5  Q6  Q7  Q8  Q9  Q10  ...  Q28  Q29  Q30  Q31  Q32  Q33  \\\n",
       "0   0   0   0   0   0   0   0   0   0    0  ...    0    0    0    0    0    0   \n",
       "1   0   0   0   0   0   0   0   0   0    0  ...    0    1    1    1    1    0   \n",
       "2   0   0   0   0   0   0   0   1   0    0  ...    1    2    2    2    1    0   \n",
       "3   0   0   0   0   0   0   0   0   0    0  ...    1    3    2    3    1    0   \n",
       "4   0   0   0   0   0   0   0   0   0    0  ...    1    4    2    4    1    0   \n",
       "\n",
       "   Q34  Q35  Q36  Evaluation  \n",
       "0    0    0    0           0  \n",
       "1    0    0    0           0  \n",
       "2    0    0    0           0  \n",
       "3    0    1    1           0  \n",
       "4    0    1    1           0  \n",
       "\n",
       "[5 rows x 37 columns]"
      ]
     },
     "execution_count": 9,
     "metadata": {},
     "output_type": "execute_result"
    }
   ],
   "source": [
    "trainData.head()"
   ]
  },
  {
   "cell_type": "code",
   "execution_count": 10,
   "metadata": {},
   "outputs": [
    {
     "name": "stdout",
     "output_type": "stream",
     "text": [
      "<class 'pandas.core.frame.DataFrame'>\n",
      "RangeIndex: 200000 entries, 0 to 199999\n",
      "Data columns (total 37 columns):\n",
      "Q1            200000 non-null int64\n",
      "Q2            200000 non-null int64\n",
      "Q3            200000 non-null int64\n",
      "Q4            200000 non-null int64\n",
      "Q5            200000 non-null int64\n",
      "Q6            200000 non-null int64\n",
      "Q7            200000 non-null int64\n",
      "Q8            200000 non-null int64\n",
      "Q9            200000 non-null int64\n",
      "Q10           200000 non-null int64\n",
      "Q11           200000 non-null int64\n",
      "Q12           200000 non-null int64\n",
      "Q13           200000 non-null int64\n",
      "Q14           200000 non-null int64\n",
      "Q15           200000 non-null int64\n",
      "Q16           200000 non-null int64\n",
      "Q17           200000 non-null int64\n",
      "Q18           200000 non-null int64\n",
      "Q19           200000 non-null int64\n",
      "Q20           200000 non-null int64\n",
      "Q21           200000 non-null int64\n",
      "Q22           200000 non-null int64\n",
      "Q23           200000 non-null int64\n",
      "Q24           200000 non-null int64\n",
      "Q25           200000 non-null int64\n",
      "Q26           200000 non-null int64\n",
      "Q27           200000 non-null int64\n",
      "Q28           200000 non-null int64\n",
      "Q29           200000 non-null int64\n",
      "Q30           200000 non-null int64\n",
      "Q31           200000 non-null int64\n",
      "Q32           200000 non-null int64\n",
      "Q33           200000 non-null int64\n",
      "Q34           200000 non-null int64\n",
      "Q35           200000 non-null int64\n",
      "Q36           200000 non-null int64\n",
      "Evaluation    200000 non-null int64\n",
      "dtypes: int64(37)\n",
      "memory usage: 56.5 MB\n"
     ]
    }
   ],
   "source": [
    "trainData.info()"
   ]
  },
  {
   "cell_type": "code",
   "execution_count": 11,
   "metadata": {},
   "outputs": [
    {
     "data": {
      "text/plain": [
       "array([[<matplotlib.axes._subplots.AxesSubplot object at 0x000001C5906757B8>,\n",
       "        <matplotlib.axes._subplots.AxesSubplot object at 0x000001C58F8E9470>,\n",
       "        <matplotlib.axes._subplots.AxesSubplot object at 0x000001C590689358>,\n",
       "        <matplotlib.axes._subplots.AxesSubplot object at 0x000001C58FEE83C8>,\n",
       "        <matplotlib.axes._subplots.AxesSubplot object at 0x000001C5904B9630>,\n",
       "        <matplotlib.axes._subplots.AxesSubplot object at 0x000001C58FAC8898>],\n",
       "       [<matplotlib.axes._subplots.AxesSubplot object at 0x000001C58F8EB668>,\n",
       "        <matplotlib.axes._subplots.AxesSubplot object at 0x000001C590498208>,\n",
       "        <matplotlib.axes._subplots.AxesSubplot object at 0x000001C590498240>,\n",
       "        <matplotlib.axes._subplots.AxesSubplot object at 0x000001C58FB3D6A0>,\n",
       "        <matplotlib.axes._subplots.AxesSubplot object at 0x000001C58FFC8908>,\n",
       "        <matplotlib.axes._subplots.AxesSubplot object at 0x000001C590642B70>],\n",
       "       [<matplotlib.axes._subplots.AxesSubplot object at 0x000001C58FE66DD8>,\n",
       "        <matplotlib.axes._subplots.AxesSubplot object at 0x000001C58FE2A080>,\n",
       "        <matplotlib.axes._subplots.AxesSubplot object at 0x000001C58F169F60>,\n",
       "        <matplotlib.axes._subplots.AxesSubplot object at 0x000001C58FA766A0>,\n",
       "        <matplotlib.axes._subplots.AxesSubplot object at 0x000001C58FA8D710>,\n",
       "        <matplotlib.axes._subplots.AxesSubplot object at 0x000001C58E75CA20>],\n",
       "       [<matplotlib.axes._subplots.AxesSubplot object at 0x000001C58E1BD160>,\n",
       "        <matplotlib.axes._subplots.AxesSubplot object at 0x000001C58E2F5E10>,\n",
       "        <matplotlib.axes._subplots.AxesSubplot object at 0x000001C58E082B00>,\n",
       "        <matplotlib.axes._subplots.AxesSubplot object at 0x000001C58FBEF898>,\n",
       "        <matplotlib.axes._subplots.AxesSubplot object at 0x000001C58FEA3E10>,\n",
       "        <matplotlib.axes._subplots.AxesSubplot object at 0x000001C58FF9B3C8>],\n",
       "       [<matplotlib.axes._subplots.AxesSubplot object at 0x000001C5901C5940>,\n",
       "        <matplotlib.axes._subplots.AxesSubplot object at 0x000001C59026EEB8>,\n",
       "        <matplotlib.axes._subplots.AxesSubplot object at 0x000001C59031B470>,\n",
       "        <matplotlib.axes._subplots.AxesSubplot object at 0x000001C5904449E8>,\n",
       "        <matplotlib.axes._subplots.AxesSubplot object at 0x000001C590767F60>,\n",
       "        <matplotlib.axes._subplots.AxesSubplot object at 0x000001C590B42518>],\n",
       "       [<matplotlib.axes._subplots.AxesSubplot object at 0x000001C590E07A90>,\n",
       "        <matplotlib.axes._subplots.AxesSubplot object at 0x000001C590E61048>,\n",
       "        <matplotlib.axes._subplots.AxesSubplot object at 0x000001C5900945C0>,\n",
       "        <matplotlib.axes._subplots.AxesSubplot object at 0x000001C590BA4B38>,\n",
       "        <matplotlib.axes._subplots.AxesSubplot object at 0x000001C590CBC0F0>,\n",
       "        <matplotlib.axes._subplots.AxesSubplot object at 0x000001C590D03668>],\n",
       "       [<matplotlib.axes._subplots.AxesSubplot object at 0x000001C590D49BE0>,\n",
       "        <matplotlib.axes._subplots.AxesSubplot object at 0x000001C5900D4198>,\n",
       "        <matplotlib.axes._subplots.AxesSubplot object at 0x000001C590BE1710>,\n",
       "        <matplotlib.axes._subplots.AxesSubplot object at 0x000001C590DA3C88>,\n",
       "        <matplotlib.axes._subplots.AxesSubplot object at 0x000001C59077A240>,\n",
       "        <matplotlib.axes._subplots.AxesSubplot object at 0x000001C5907F67B8>]],\n",
       "      dtype=object)"
      ]
     },
     "execution_count": 11,
     "metadata": {},
     "output_type": "execute_result"
    },
    {
     "data": {
      "image/png": "[encoded data removed]",
      "text/plain": [
       "<Figure size 1440x1440 with 42 Axes>"
      ]
     },
     "metadata": {
      "needs_background": "light"
     },
     "output_type": "display_data"
    }
   ],
   "source": [
    "# 绘制直方图，参数 figsize 可指定输出图片的尺寸\n",
    "trainData.hist(figsize=(20, 20))"
   ]
  },
  {
   "cell_type": "code",
   "execution_count": 13,
   "metadata": {},
   "outputs": [
    {
     "data": {
      "text/plain": [
       "Evaluation    1.000000\n",
       "Q28           0.410700\n",
       "Q30           0.324421\n",
       "Q36           0.302709\n",
       "Q35           0.224996\n",
       "Q34           0.152743\n",
       "Q32           0.049397\n",
       "Q21           0.034897\n",
       "Q33           0.032248\n",
       "Q13           0.023603\n",
       "Q8            0.021922\n",
       "Q19           0.019694\n",
       "Q20           0.013903\n",
       "Q4            0.011626\n",
       "Q27           0.004262\n",
       "Q23           0.002898\n",
       "Q7            0.001143\n",
       "Q31          -0.000036\n",
       "Q14          -0.000669\n",
       "Q29          -0.002014\n",
       "Q10          -0.002711\n",
       "Q12          -0.005287\n",
       "Q1           -0.006511\n",
       "Q16          -0.007184\n",
       "Q18          -0.007643\n",
       "Q26          -0.008188\n",
       "Q11          -0.009252\n",
       "Q24          -0.010891\n",
       "Q22          -0.011821\n",
       "Q25          -0.012660\n",
       "Q6           -0.016072\n",
       "Q2           -0.018307\n",
       "Q15          -0.019570\n",
       "Q9           -0.021261\n",
       "Q5           -0.023893\n",
       "Q3           -0.026349\n",
       "Q17          -0.028461\n",
       "Name: Evaluation, dtype: float64"
      ]
     },
     "execution_count": 13,
     "metadata": {},
     "output_type": "execute_result"
    }
   ],
   "source": [
    "# 了解特征之间的相关性，计算相关系数矩阵。然后对某个特征来排序\n",
    "corr_matrix = trainData.corr()\n",
    "corr_matrix[\"Evaluation\"].sort_values(ascending=False)"
   ]
  },
  {
   "cell_type": "code",
   "execution_count": 15,
   "metadata": {},
   "outputs": [],
   "source": [
    "# 从训练集分离标签\n",
    "y = trainData['Evaluation']\n",
    "# 删除标签一列\n",
    "trainData.drop(\"Evaluation\",axis=1,inplace=True)"
   ]
  },
  {
   "cell_type": "code",
   "execution_count": 16,
   "metadata": {},
   "outputs": [],
   "source": [
    "# 导入KMeans包\n",
    "from sklearn.cluster import KMeans\n",
    "est = KMeans(n_clusters=2, init=\"k-means++\", n_jobs=-1)\n",
    "est.fit(trainData, y)\n",
    "y_pred = est.predict(testData)"
   ]
  },
  {
   "cell_type": "code",
   "execution_count": 17,
   "metadata": {},
   "outputs": [],
   "source": [
    "submitData['Evaluation'] = y_pred\n",
    "submitData.to_csv(\"submit_data.csv\", index=False)"
   ]
  },
  {
   "cell_type": "code",
   "execution_count": 1,
   "metadata": {},
   "outputs": [],
   "source": [
    "import pandas as pd\n",
    "from sklearn.ensemble import RandomForestClassifier\n",
    "\n",
    "train = pd.read_csv(\"train.csv\")\n",
    "test = pd.read_csv(\"test.csv\")\n",
    "submit = pd.read_csv(\"sample_submit.csv\")\n",
    "\n",
    "train.drop('CaseId', axis=1, inplace=True)\n",
    "test.drop('CaseId', axis=1, inplace=True)\n",
    "\n",
    "y_train = train.pop('Evaluation')\n",
    "\n",
    "clf = RandomForestClassifier(n_estimators=100, random_state=0)\n",
    "clf.fit(train, y_train)\n",
    "y_pred = clf.predict_proba(test)[:, 1]\n",
    "\n",
    "submit['Evaluation'] = y_pred\n",
    "submit.to_csv('my_RF_prediction.csv',index=False)"
   ]
  },
  {
   "cell_type": "code",
   "execution_count": null,
   "metadata": {},
   "outputs": [],
   "source": []
  },
  {
   "cell_type": "code",
   "execution_count": null,
   "metadata": {},
   "outputs": [],
   "source": []
  },
  {
   "cell_type": "code",
   "execution_count": null,
   "metadata": {},
   "outputs": [],
   "source": []
  }
 ],
 "metadata": {
  "kernelspec": {
   "display_name": "Python 3",
   "language": "python",
   "name": "python3"
  },
  "language_info": {
   "codemirror_mode": {
    "name": "ipython",
    "version": 3
   },
   "file_extension": ".py",
   "mimetype": "text/x-python",
   "name": "python",
   "nbconvert_exporter": "python",
   "pygments_lexer": "ipython3",
   "version": "3.7.3"
  }
 },
 "nbformat": 4,
 "nbformat_minor": 2
}
